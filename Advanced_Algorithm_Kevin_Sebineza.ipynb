{
  "nbformat": 4,
  "nbformat_minor": 0,
  "metadata": {
    "colab": {
      "name": "Advanced Algorithm_Kevin Sebineza.ipynb",
      "provenance": []
    },
    "kernelspec": {
      "name": "python3",
      "display_name": "Python 3"
    }
  },
  "cells": [
    {
      "cell_type": "code",
      "metadata": {
        "colab": {
          "base_uri": "https://localhost:8080/",
          "height": 35
        },
        "id": "4u9c3ma7xCaM",
        "outputId": "85fa0d8e-fb2f-4b8e-bb3c-65b78d808f3f"
      },
      "source": [
        "''' Implementing Kruskal's algorithm to simulate finding the shortest route '''"
      ],
      "execution_count": 26,
      "outputs": [
        {
          "output_type": "execute_result",
          "data": {
            "application/vnd.google.colaboratory.intrinsic+json": {
              "type": "string"
            },
            "text/plain": [
              "\" Implementing Kruskal's algorithm to simulate finding the shortest route \""
            ]
          },
          "metadata": {
            "tags": []
          },
          "execution_count": 26
        }
      ]
    },
    {
      "cell_type": "code",
      "metadata": {
        "id": "bEUbcAGZxSzN"
      },
      "source": [
        "from collections import defaultdict\r\n",
        " \r\n",
        "# Class to represent a graph\r\n",
        " \r\n",
        " \r\n",
        "class Graph:\r\n",
        " \r\n",
        "    def __init__(self, vertices):\r\n",
        "        self.V = vertices # No. of vertices\r\n",
        "        self.graph = [] # default dictionary\r\n",
        "        # to store graph\r\n",
        " \r\n",
        "    # function to add an edge to graph\r\n",
        "    def addEdge(self, u, v, w):\r\n",
        "        self.graph.append([u, v, w])\r\n",
        " \r\n",
        "    # A utility function to find set of an element i\r\n",
        "    # (uses path compression technique)\r\n",
        "    def find(self, parent, i):\r\n",
        "        if parent[i] == i:\r\n",
        "            return i\r\n",
        "        return self.find(parent, parent[i])\r\n",
        " \r\n",
        "    # A function that does union of two sets of x and y\r\n",
        "    # (uses union by rank)\r\n",
        "    def union(self, parent, rank, x, y):\r\n",
        "        xroot = self.find(parent, x)\r\n",
        "        yroot = self.find(parent, y)\r\n",
        " \r\n",
        "        # Attach smaller rank tree under root of\r\n",
        "        # high rank tree (Union by Rank)\r\n",
        "        if rank[xroot] < rank[yroot]:\r\n",
        "            parent[xroot] = yroot\r\n",
        "        elif rank[xroot] > rank[yroot]:\r\n",
        "            parent[yroot] = xroot\r\n",
        " \r\n",
        "        # If ranks are same, then make one as root\r\n",
        "        # and increment its rank by one\r\n",
        "        else:\r\n",
        "            parent[yroot] = xroot\r\n",
        "            rank[xroot] += 1\r\n",
        " \r\n",
        "    # The main function to construct MST using Kruskal's\r\n",
        "        # algorithm\r\n",
        "    def KruskalMST(self):\r\n",
        " \r\n",
        "        result = [] # This will store the resultant MST\r\n",
        "        \r\n",
        "        # An index variable, used for sorted edges\r\n",
        "        i = 0\r\n",
        "        \r\n",
        "        # An index variable, used for result[]\r\n",
        "        e = 0\r\n",
        " \r\n",
        "        # Step 1: Sort all the edges in \r\n",
        "        # non-decreasing order of their\r\n",
        "        # weight. If we are not allowed to change the\r\n",
        "        # given graph, we can create a copy of graph\r\n",
        "        self.graph = sorted(self.graph, \r\n",
        "                            key=lambda item: item[2])\r\n",
        " \r\n",
        "        parent = []\r\n",
        "        rank = []\r\n",
        " \r\n",
        "        # Create V subsets with single elements\r\n",
        "        for node in range(self.V):\r\n",
        "            parent.append(node)\r\n",
        "            rank.append(0)\r\n",
        " \r\n",
        "        # Number of edges to be taken is equal to V-1\r\n",
        "        while e < self.V - 1:\r\n",
        " \r\n",
        "            # Step 2: Pick the smallest edge and increment\r\n",
        "            # the index for next iteration\r\n",
        "            u, v, w = self.graph[i]\r\n",
        "            i = i + 1\r\n",
        "            x = self.find(parent, u)\r\n",
        "            y = self.find(parent, v)\r\n",
        " \r\n",
        "            # If including this edge does't\r\n",
        "            # cause cycle, include it in result \r\n",
        "            # and increment the indexof result \r\n",
        "            # for next edge\r\n",
        "            if x != y:\r\n",
        "                e = e + 1\r\n",
        "                result.append([u, v, w])\r\n",
        "                self.union(parent, rank, x, y)\r\n",
        "            # Else discard the edge\r\n",
        " \r\n",
        "        minimumCost = 0\r\n",
        "        print (\"Edges in the constructed MST\")\r\n",
        "        for u, v, weight in result:\r\n",
        "            minimumCost += weight\r\n",
        "            print(\"%d to %d has weight of: %d\" % (u, v, weight))\r\n",
        "        print(\"Total weight for the shortest route:\" , minimumCost)"
      ],
      "execution_count": 27,
      "outputs": []
    },
    {
      "cell_type": "code",
      "metadata": {
        "id": "aqwDSqwhxZEJ"
      },
      "source": [
        ""
      ],
      "execution_count": 27,
      "outputs": []
    },
    {
      "cell_type": "code",
      "metadata": {
        "colab": {
          "base_uri": "https://localhost:8080/"
        },
        "id": "MC3N3yenxey5",
        "outputId": "eecbf518-b1f4-4f65-cb01-3827dc0e15bc"
      },
      "source": [
        "# Creating a weighted graph with different vertices \r\n",
        "g = Graph(4)\r\n",
        "g.addEdge(0, 1, 10)\r\n",
        "g.addEdge(0, 2, 6)\r\n",
        "g.addEdge(0, 3, 5)\r\n",
        "g.addEdge(1, 3, 15)\r\n",
        "g.addEdge(2, 3, 4)\r\n",
        "\r\n",
        "g.KruskalMST()"
      ],
      "execution_count": 28,
      "outputs": [
        {
          "output_type": "stream",
          "text": [
            "Edges in the constructed MST\n",
            "2 to 3 has weight of: 4\n",
            "0 to 3 has weight of: 5\n",
            "0 to 1 has weight of: 10\n",
            "Total weight for the shortest route: 19\n"
          ],
          "name": "stdout"
        }
      ]
    },
    {
      "cell_type": "code",
      "metadata": {
        "id": "Xbc1t5DwzNLw"
      },
      "source": [
        ""
      ],
      "execution_count": 28,
      "outputs": []
    }
  ]
}